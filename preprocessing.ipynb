{
 "cells": [
  {
   "cell_type": "code",
   "execution_count": null,
   "id": "c720145b",
   "metadata": {
    "colab": {
     "base_uri": "https://localhost:8080/"
    },
    "id": "c720145b",
    "outputId": "784731ed-0b05-4fba-8c09-0d9a54809dd7",
    "scrolled": true
   },
   "outputs": [],
   "source": [
    "#!pip install langchain unstructured openai chromadb Cython tiktoken pypdf patool"
   ]
  },
  {
   "cell_type": "markdown",
   "id": "4ada3a47-8ac1-4716-a042-26dc4a19b369",
   "metadata": {},
   "source": [
    "# Vector Store Stage:\n",
    "![Vector_store](./images/VS.png)"
   ]
  },
  {
   "cell_type": "code",
   "execution_count": null,
   "id": "afe67962-5107-4381-9d50-1944f4b30f20",
   "metadata": {},
   "outputs": [],
   "source": [
    "from langchain.document_loaders import PyPDFDirectoryLoader\n",
    "from langchain.text_splitter import RecursiveCharacterTextSplitter\n",
    "from langchain.embeddings.openai import OpenAIEmbeddings\n",
    "from langchain.vectorstores import Chroma\n",
    "import os\n",
    "os.environ[\"OPENAI_API_KEY\"] = \"YOUR_OPENAI_API_KEY\"\n"
   ]
  },
  {
   "cell_type": "markdown",
   "id": "033d9e0b-5c37-4646-bb5e-dcbfeae78a39",
   "metadata": {},
   "source": [
    "# Load The PDF Files:"
   ]
  },
  {
   "cell_type": "code",
   "execution_count": 5,
   "id": "be71a372",
   "metadata": {
    "id": "be71a372"
   },
   "outputs": [],
   "source": [
    "pdf_folder_path = \"./path_to_PDF_directory\"\n",
    "loader = PyPDFDirectoryLoader(pdf_folder_path)\n",
    "docs = loader.load()"
   ]
  },
  {
   "cell_type": "code",
   "execution_count": 6,
   "id": "601e93f3-57c3-479f-a3d5-3b78dc0a8d32",
   "metadata": {
    "colab": {
     "base_uri": "https://localhost:8080/"
    },
    "id": "601e93f3-57c3-479f-a3d5-3b78dc0a8d32",
    "outputId": "933fffa2-4916-4ef1-db9e-e97a7e346e5e"
   },
   "outputs": [
    {
     "data": {
      "text/plain": [
       "list"
      ]
     },
     "execution_count": 6,
     "metadata": {},
     "output_type": "execute_result"
    }
   ],
   "source": [
    "type(docs)"
   ]
  },
  {
   "cell_type": "markdown",
   "id": "7b428e10-1259-4ac1-a017-35730bdac100",
   "metadata": {},
   "source": [
    "### An example of a document:\n",
    " - Until now our documents are the pages of PDF files.\n",
    " - You can notice that we split the paragraphs with \"__________\", to help the retriever get the most relevant splits."
   ]
  },
  {
   "cell_type": "code",
   "execution_count": 7,
   "id": "c14ded24-2a84-48b8-9a9f-956815bdb233",
   "metadata": {
    "colab": {
     "base_uri": "https://localhost:8080/"
    },
    "id": "c14ded24-2a84-48b8-9a9f-956815bdb233",
    "outputId": "d8bd7b2a-01fc-4687-9f8e-dc6664d9ff55",
    "scrolled": true
   },
   "outputs": [
    {
     "data": {
      "text/plain": [
       "Document(page_content=\"When can we see the aurora at Middle latitudes?  \\nThis is one of the toughest questions to answer because it depends on so many parameters. We do get \\nthis question a lot of times and each time we have the same answer. In this help topic we’ll try to explain  \\nwhat is needed before you can run outside.  \\n__________  \\nWhat is needed to see it?  \\nThe first thing that needs to happen and also the most important thing to happen are earth -directed \\nsolar eruptions or solar flares. You can follow this live on our website. Only the strong and major flares \\n(high -level M and X -class flares) are candidates to cause sufficient storming for aurora on middle \\nlatitudes. During strong and long -duration solar fl ares, material of the Sun gets blown into space. This is \\ncalled a coronal mass ejection. If the eruption comes from a sunspot group which is located near the \\ncentre of the earth -facing solar disk, then chances are high that a resulting coronal mass ejectio n will \\nhave an earth -directed component.  \\n__________  \\nThis however is still no guarantee that we can expect an auroral display soon. There are a lot of variables \\ninvolved such as the duration of the solar flare, the size of the plasma cloud and with what speed the \\ncoro nal mass ejection departed. The arrival time of a coronal mass ejection is calculated by determining \\nthe departure speed of the coronal mass ejection. Scientists use complex methods to do this because \\nthe coronal mass ejection slows down between the Sun an d Earth. It is very hard to know by how much \\nthe coronal mass ejection slows down between the Sun and Earth so the actual arrival time of the \\ncoronal mass ejection may differ by six hours or sometimes even more! The major coronal mass \\nejections arrive at E arth between 24 and 48 hours after they were launched. It is thus important to have \\nsome patience, there won't be aurora visible directly after a solar flare. We do of course keep you up to \\ndate when there is a coronal mass ejection on it's way to Earth. O n our website, under the reports tab, \\nwe provide the daily activity reports of NOAA which gives an overview of the past 24 hours worth of \\nsolar activity and a forecast on the arrival times and chances for geomagnetic storms. We also provide \\nregular home -made updates in our forum during high solar activity and when significant geomagnetic \\nactivity is being expected.  \\nImage ={ “ID”:”0 044”, ”description”: “ Example of a full halo CME on it’s way to  Earth as seen by \\nSOHO/LASCO C2 ”} \\n \\n \\n \\n \\n \\n \\n \", metadata={'source': 'PDFs/When can we see the aurora at Middle latitudes.pdf', 'page': 0})"
      ]
     },
     "execution_count": 7,
     "metadata": {},
     "output_type": "execute_result"
    }
   ],
   "source": [
    "docs[0]"
   ]
  },
  {
   "cell_type": "markdown",
   "id": "0ba89e75-0991-482b-b2de-c4a9e602c72f",
   "metadata": {},
   "source": [
    "# Splitting the documents:\n",
    " - Now our documents are the splits (chunks) from the pages."
   ]
  },
  {
   "cell_type": "code",
   "execution_count": 9,
   "id": "0b94d3ca-7888-4bb3-9c38-448120d29f75",
   "metadata": {
    "id": "0b94d3ca-7888-4bb3-9c38-448120d29f75"
   },
   "outputs": [],
   "source": [
    "splitter = RecursiveCharacterTextSplitter(\n",
    "    chunk_size=100,\n",
    "    chunk_overlap=0,\n",
    "    separators=[\"__________\"]\n",
    ")"
   ]
  },
  {
   "cell_type": "code",
   "execution_count": 10,
   "id": "42b63206-7948-4f57-910c-9e4b11e70602",
   "metadata": {
    "colab": {
     "base_uri": "https://localhost:8080/"
    },
    "id": "42b63206-7948-4f57-910c-9e4b11e70602",
    "outputId": "ece7fdea-7c43-4843-d1a9-8230aebc8004"
   },
   "outputs": [
    {
     "data": {
      "text/plain": [
       "46"
      ]
     },
     "execution_count": 10,
     "metadata": {},
     "output_type": "execute_result"
    }
   ],
   "source": [
    "# Before splitting, we have 46 pages.\n",
    "len(docs)"
   ]
  },
  {
   "cell_type": "code",
   "execution_count": 11,
   "id": "a0d9e065-2557-4144-8f8e-aa84c5543d7a",
   "metadata": {
    "id": "a0d9e065-2557-4144-8f8e-aa84c5543d7a"
   },
   "outputs": [],
   "source": [
    "split_docs = splitter.split_documents(docs)"
   ]
  },
  {
   "cell_type": "code",
   "execution_count": 12,
   "id": "edfd1308-cb72-43ec-aa9b-82ee1d512eb4",
   "metadata": {
    "colab": {
     "base_uri": "https://localhost:8080/"
    },
    "id": "edfd1308-cb72-43ec-aa9b-82ee1d512eb4",
    "outputId": "4b78345a-a68a-4fcf-8ab7-b68456a8e5de"
   },
   "outputs": [
    {
     "data": {
      "text/plain": [
       "144"
      ]
     },
     "execution_count": 12,
     "metadata": {},
     "output_type": "execute_result"
    }
   ],
   "source": [
    "# After splitting we have 144 chunks/splits\n",
    "len(split_docs)"
   ]
  },
  {
   "cell_type": "code",
   "execution_count": 13,
   "id": "64c04e84-d1e0-4dc2-8a4d-0d3d40c3ab72",
   "metadata": {
    "colab": {
     "base_uri": "https://localhost:8080/"
    },
    "id": "64c04e84-d1e0-4dc2-8a4d-0d3d40c3ab72",
    "outputId": "a6e5e02c-2270-4965-c3bb-de0317f625e4"
   },
   "outputs": [
    {
     "data": {
      "text/plain": [
       "Document(page_content='When can we see the aurora at Middle latitudes?  \\nThis is one of the toughest questions to answer because it depends on so many parameters. We do get \\nthis question a lot of times and each time we have the same answer. In this help topic we’ll try to explain  \\nwhat is needed before you can run outside.  \\n', metadata={'source': 'PDFs/When can we see the aurora at Middle latitudes.pdf', 'page': 0})"
      ]
     },
     "execution_count": 13,
     "metadata": {},
     "output_type": "execute_result"
    }
   ],
   "source": [
    "# An example of a document (split/chunk)\n",
    "split_docs[0]"
   ]
  },
  {
   "cell_type": "markdown",
   "id": "349ad827-1549-443a-a773-1205dd480b38",
   "metadata": {
    "colab": {
     "base_uri": "https://localhost:8080/"
    },
    "id": "a65091f0-90cd-4717-b8fe-79d495f1b282",
    "outputId": "86d252a4-bb79-4d45-a43f-cf9140450901"
   },
   "source": [
    "# Get the embedding for our splits:\n",
    " - the embeddings are used to get the most relevant documents."
   ]
  },
  {
   "cell_type": "code",
   "execution_count": 16,
   "id": "ba8275c9-dfd9-4b14-8da2-393fd09223b2",
   "metadata": {
    "id": "ba8275c9-dfd9-4b14-8da2-393fd09223b2"
   },
   "outputs": [],
   "source": [
    "embedding = OpenAIEmbeddings()\n",
    "persist_directory = './persist_directory'"
   ]
  },
  {
   "cell_type": "code",
   "execution_count": 17,
   "id": "ef92aa56-42b4-4a2b-99ed-13cc51e77075",
   "metadata": {
    "id": "ef92aa56-42b4-4a2b-99ed-13cc51e77075"
   },
   "outputs": [],
   "source": [
    "vectordb = Chroma.from_documents(\n",
    "    documents=split_docs,\n",
    "    embedding=embedding,\n",
    "    persist_directory=persist_directory\n",
    ")"
   ]
  },
  {
   "cell_type": "markdown",
   "id": "512b4e3a-f90e-4995-a69f-6a9efb9efb67",
   "metadata": {},
   "source": [
    "# Testing the retriever:\n",
    " - We use similarity_search to get the most \"K\" (3) relevant splits.\n",
    " - You can see the splits we got discussing the subject we asked about."
   ]
  },
  {
   "cell_type": "code",
   "execution_count": 19,
   "id": "dad345b0-09c1-41af-b108-e6dc1a905cfa",
   "metadata": {
    "colab": {
     "base_uri": "https://localhost:8080/"
    },
    "id": "dad345b0-09c1-41af-b108-e6dc1a905cfa",
    "outputId": "25a7858f-9ed8-4b3a-b8a2-0bbcbd315f88"
   },
   "outputs": [
    {
     "data": {
      "text/plain": [
       "3"
      ]
     },
     "execution_count": 19,
     "metadata": {},
     "output_type": "execute_result"
    }
   ],
   "source": [
    "question = \"what are sunspots?\"\n",
    "answer = vectordb.similarity_search(question,k=3)\n",
    "len(answer)"
   ]
  },
  {
   "cell_type": "code",
   "execution_count": 20,
   "id": "7231785e-dd75-4080-be35-92de0ecb5d0c",
   "metadata": {
    "colab": {
     "base_uri": "https://localhost:8080/"
    },
    "id": "7231785e-dd75-4080-be35-92de0ecb5d0c",
    "outputId": "9937306f-eba4-48dd-e323-4e7f127751c7"
   },
   "outputs": [
    {
     "data": {
      "text/plain": [
       "Document(page_content='What are sunspots?  \\nSunspots form on the surface of the Sun due to strong magnetic field lines coming up from within the \\nSun trough the solar surface and appear visibly as dark spots compared to their surroundings. These \\nsunspots which can become many times bigger than the Earth are always dark because they are much \\ncooler than the surrounding surface of the Sun itself. A big sunspot can have a temperature of 3700°C. \\nThis sounds like much but if we compare this with the temperature of the photosphere of  the Sun which \\nis about 5500°C, then you see that there is a considerable difference. As a matter of fact, if we could take \\na sunspot out of the Sun and place it into our night sky it would only be as bright as the full moon, a very \\nbig contrast with the b right Sun itself.  \\n', metadata={'page': 0, 'source': 'PDFs/What are sunspots.pdf'})"
      ]
     },
     "execution_count": 20,
     "metadata": {},
     "output_type": "execute_result"
    }
   ],
   "source": [
    "answer[0]"
   ]
  },
  {
   "cell_type": "code",
   "execution_count": 21,
   "id": "65650fa1-f632-4af1-8055-b5c8d1f25ebe",
   "metadata": {
    "colab": {
     "base_uri": "https://localhost:8080/"
    },
    "id": "65650fa1-f632-4af1-8055-b5c8d1f25ebe",
    "outputId": "965ea251-53b0-46e1-b2c0-f87d8c7d7d02"
   },
   "outputs": [
    {
     "data": {
      "text/plain": [
       "Document(page_content='__________  \\nSunspots are a common sight on our Sun during the years around solar maximum. Solar maximum or \\nsolar max is the period of greatest solar activity in the solar cycle of the Sun, where one solar cycle lasts \\nabout 11 years. Around solar mini mum, only very few or even no sunspots can be found. Sunspots form \\nwhere magnetic field lines come up from the Sun’s interior trough the solar surface meaning that every \\nsunspot has it’s own polarity.  \\nA sunspot consists of two parts:  \\n\\uf0b7 The dark part (umbra)  \\n\\uf0b7 Lighter part around the dark part (penumbra)  \\nImage ={ “ID”:”0 028”, ”description”: “”}  \\n', metadata={'page': 0, 'source': 'PDFs/What are sunspots.pdf'})"
      ]
     },
     "execution_count": 21,
     "metadata": {},
     "output_type": "execute_result"
    }
   ],
   "source": [
    "answer[1]"
   ]
  },
  {
   "cell_type": "code",
   "execution_count": 22,
   "id": "7ec3af3e-d3dc-46c0-b91c-126abb9de100",
   "metadata": {
    "colab": {
     "base_uri": "https://localhost:8080/"
    },
    "id": "7ec3af3e-d3dc-46c0-b91c-126abb9de100",
    "outputId": "6709811a-675c-4d3a-9385-6b187a988e20"
   },
   "outputs": [
    {
     "data": {
      "text/plain": [
       "Document(page_content='__________  \\nBut more about those sunspots because without sunspots, we will not have any solar flares. Sunspots \\nare darker and cooler a reas on the solar surface where strong magnetic field lines come up from the \\ninterior of the Sun trough the solar surface. When these magnetic field lines become entangled with \\neach other and snap, they release a huge amount of energy which we call a solar  flare. Sunspots are \\nhowever not something we can always find on our Sun, the Sun follows a pattern of about 11 years \\nwhere the Sun goes from pretty much no sunspots to very many sunspots, and back to no sunspots \\nagain. This is what we call a solar cycle.  \\n \\n \\n ', metadata={'page': 2, 'source': 'PDFs/basics.pdf'})"
      ]
     },
     "execution_count": 22,
     "metadata": {},
     "output_type": "execute_result"
    }
   ],
   "source": [
    "answer[2]"
   ]
  },
  {
   "cell_type": "markdown",
   "id": "d8ee697b-1946-4451-aaac-25b977fbd935",
   "metadata": {},
   "source": [
    "# Persist the splits and embeddings:"
   ]
  },
  {
   "cell_type": "code",
   "execution_count": 23,
   "id": "a1d050a8-0583-4f43-ad35-823cccf3e316",
   "metadata": {
    "id": "a1d050a8-0583-4f43-ad35-823cccf3e316"
   },
   "outputs": [],
   "source": [
    "vectordb.persist()"
   ]
  },
  {
   "cell_type": "code",
   "execution_count": null,
   "id": "d3aebb33-3770-4907-8ae9-f98d5c8025e2",
   "metadata": {},
   "outputs": [],
   "source": []
  }
 ],
 "metadata": {
  "colab": {
   "provenance": []
  },
  "kernelspec": {
   "display_name": "Python 3 (ipykernel)",
   "language": "python",
   "name": "python3"
  },
  "language_info": {
   "codemirror_mode": {
    "name": "ipython",
    "version": 3
   },
   "file_extension": ".py",
   "mimetype": "text/x-python",
   "name": "python",
   "nbconvert_exporter": "python",
   "pygments_lexer": "ipython3",
   "version": "3.11.0"
  }
 },
 "nbformat": 4,
 "nbformat_minor": 5
}
